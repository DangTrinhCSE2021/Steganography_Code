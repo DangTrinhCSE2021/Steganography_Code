{
 "cells": [
  {
   "cell_type": "code",
   "execution_count": 1,
   "id": "6538ea91",
   "metadata": {},
   "outputs": [],
   "source": [
    "import cv2 \n",
    "import numpy as np\n",
    "\n",
    "def text_to_bin(text):\n",
    "    return ''.join(format(ord(x), '08b') if x != ' ' else '00100000' for x in text)\n",
    "\n",
    "def bin_to_text(bin_str):\n",
    "    chars = []\n",
    "    for i in range(0, len(bin_str), 8):\n",
    "        byte = bin_str[i:i+8]\n",
    "        chars.append(chr(int(byte, 2)))\n",
    "    return ''.join(chars)\n",
    "\n",
    "def bin_to_num(bin_num):\n",
    "    exp = 7\n",
    "    num = 0\n",
    "    for bit in bin_num:\n",
    "        if bit == '1':\n",
    "            num += (2 ** exp)\n",
    "        exp -= 1\n",
    "    return num\n",
    "\n",
    "def num_to_bin(num):\n",
    "    bin_num = \"\"\n",
    "    while True:\n",
    "        bin_num += str(num % 2)\n",
    "        num = int(num / 2)\n",
    "        if num == 0:\n",
    "            break\n",
    "    len_num = len(bin_num)\n",
    "    for i in range(8 - len_num):\n",
    "        bin_num += \"0\"\n",
    "    return bin_num[::-1]\n",
    "    \n",
    "\n",
    "def encode(image,secret,key):\n",
    "    flat_images = image.flatten()\n",
    "    flat_images_bin = []\n",
    "    stego = []\n",
    "    \n",
    "    for num in flat_images:\n",
    "        flat_images_bin.append(num_to_bin(num))\n",
    "        \n",
    "    index = 0\n",
    "    \n",
    "    for pixel in flat_images_bin:\n",
    "        new_text = \"\"\n",
    "        \n",
    "                \n",
    "        if(index < key):\n",
    "            for i in range(len(pixel)):\n",
    "                if(i == 6):\n",
    "                    new_text += secret[index]\n",
    "                    index += 1\n",
    "                elif(i == 7):\n",
    "                    if(index < key):\n",
    "                        new_text += secret[index]\n",
    "                        index += 1\n",
    "                    else:\n",
    "                        new_text += pixel[i]\n",
    "                else:\n",
    "                    new_text += pixel[i]\n",
    "            stego.append(new_text)\n",
    "        else:\n",
    "            stego.append(pixel)\n",
    "    \n",
    "    stego_img = []\n",
    "    for each in stego:\n",
    "        stego_img.append(bin_to_num(each))\n",
    "        \n",
    "    return stego_img\n",
    "\n",
    "def decode(stego,key):\n",
    "    flat_stegos = stego.flatten()\n",
    "    flat_stegos_bin = []\n",
    "    secret_bin = \"\"\n",
    "    \n",
    "    for stego in flat_stegos:\n",
    "        flat_stegos_bin.append(num_to_bin(stego))\n",
    "    \n",
    "    index = 0\n",
    "    for pixel in flat_stegos_bin:\n",
    "        secret_bin += pixel[6]\n",
    "        index += 1\n",
    "        if(index > key-1): break\n",
    "        \n",
    "        secret_bin += pixel[7]\n",
    "        index += 1\n",
    "        if(index > key-1): break\n",
    "    \n",
    "    return bin_to_text(secret_bin)"
   ]
  },
  {
   "cell_type": "code",
   "execution_count": null,
   "id": "f93d4be8",
   "metadata": {},
   "outputs": [
    {
     "name": "stdout",
     "output_type": "stream",
     "text": [
      "0101010001101000011010010111001100100000011010010111001100100000011101000110100001100101001000000110110101101111011100110111010000100000011100110110010101100011011101010111001001100101001000000101001101000101010011100101010001000101010011100100001101000101001000000111010001101000011000010111010000100000011011100110111100100000011011110110111001100101001000000110001101100001011011100010000001110100011011110111010101100011011010000010000001101000011000010110100001100001\n"
     ]
    }
   ],
   "source": [
    "img = cv2.imread(\"00002.jpg\")\n",
    "secret_text = \"This is the most secure SENTENCE that no one can touch haha\"\n",
    "secret_text_bin = text_to_bin(secret_text)\n",
    "print(secret_text_bin)\n",
    "key = len(secret_text_bin)\n",
    "\n",
    "stego = np.array(encode(img,secret_text_bin,key))\n",
    "stego_img = np.reshape(stego, img.shape)\n",
    "# Convert stego image to uint8 type\n",
    "stego_img = stego_img.astype(np.uint8)\n",
    "\n",
    "cv2.imshow(\"Cover Image\", img)\n",
    "cv2.imshow(\"Stego Image\", stego_img)\n",
    "cv2.waitKey(0)\n",
    "cv2.destroyAllWindows()"
   ]
  },
  {
   "cell_type": "code",
   "execution_count": null,
   "id": "c2f18def",
   "metadata": {},
   "outputs": [
    {
     "data": {
      "text/plain": [
       "'This is the most secure SENTENCE that no one can touch haha'"
      ]
     },
     "execution_count": 4,
     "metadata": {},
     "output_type": "execute_result"
    }
   ],
   "source": [
    "decode(stego_img,key)"
   ]
  }
 ],
 "metadata": {
  "kernelspec": {
   "display_name": "Python 3",
   "language": "python",
   "name": "python3"
  },
  "language_info": {
   "codemirror_mode": {
    "name": "ipython",
    "version": 3
   },
   "file_extension": ".py",
   "mimetype": "text/x-python",
   "name": "python",
   "nbconvert_exporter": "python",
   "pygments_lexer": "ipython3",
   "version": "3.10.11"
  }
 },
 "nbformat": 4,
 "nbformat_minor": 5
}
